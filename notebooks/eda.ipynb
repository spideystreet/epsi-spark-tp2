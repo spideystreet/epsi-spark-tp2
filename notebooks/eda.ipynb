{
 "cells": [
  {
   "cell_type": "code",
   "execution_count": 2,
   "id": "fc6c13d0",
   "metadata": {},
   "outputs": [
    {
     "ename": "ModuleNotFoundError",
     "evalue": "No module named 'pyspark'",
     "output_type": "error",
     "traceback": [
      "\u001b[31m---------------------------------------------------------------------------\u001b[39m",
      "\u001b[31mModuleNotFoundError\u001b[39m                       Traceback (most recent call last)",
      "\u001b[36mCell\u001b[39m\u001b[36m \u001b[39m\u001b[32mIn[2]\u001b[39m\u001b[32m, line 1\u001b[39m\n\u001b[32m----> \u001b[39m\u001b[32m1\u001b[39m \u001b[38;5;28;01mfrom\u001b[39;00m\u001b[38;5;250m \u001b[39m\u001b[34;01mpyspark\u001b[39;00m\u001b[34;01m.\u001b[39;00m\u001b[34;01msql\u001b[39;00m\u001b[38;5;250m \u001b[39m\u001b[38;5;28;01mimport\u001b[39;00m SparkSession\n\u001b[32m      2\u001b[39m \u001b[38;5;28;01mfrom\u001b[39;00m\u001b[38;5;250m \u001b[39m\u001b[34;01mpyspark\u001b[39;00m\u001b[34;01m.\u001b[39;00m\u001b[34;01msql\u001b[39;00m\u001b[34;01m.\u001b[39;00m\u001b[34;01mtypes\u001b[39;00m\u001b[38;5;250m \u001b[39m\u001b[38;5;28;01mimport\u001b[39;00m IntegerType\n\u001b[32m      4\u001b[39m \u001b[38;5;66;03m# Create SparkSession\u001b[39;00m\n",
      "\u001b[31mModuleNotFoundError\u001b[39m: No module named 'pyspark'"
     ]
    }
   ],
   "source": [
    "from pyspark.sql import SparkSession\n",
    "from pyspark.sql.types import IntegerType\n",
    "\n",
    "# Create SparkSession\n",
    "spark = SparkSession.builder \\\n",
    "    .appName(\"EDA on sample submission\") \\\n",
    "    .getOrCreate()\n",
    "\n",
    "# Load the dataframe, indicating the first row is the header\n",
    "# The path is relative to the notebook's location in `notebooks/`\n",
    "df = spark.read.csv('../data/samplesubmission.csv', header=True, inferSchema=True)"
   ]
  },
  {
   "cell_type": "code",
   "execution_count": null,
   "id": "3cdb99bd",
   "metadata": {},
   "outputs": [],
   "source": [
    "# Print total rows number and columns\n",
    "row_count = df.count()\n",
    "col_count = len(df.columns)\n",
    "print(f'DataFrame has {row_count} rows and {col_count} columns.')\n",
    "\n",
    "# Print a sample of the dataframe\n",
    "print('\\nSample of the DataFrame:')\n",
    "df.show()\n",
    "\n",
    "# Print schema of dataframe\n",
    "print('\\nDataFrame Schema:')\n",
    "df.printSchema()"
   ]
  },
  {
   "cell_type": "code",
   "execution_count": null,
   "id": "e62acf31",
   "metadata": {},
   "outputs": [],
   "source": [
    "# Assign int type on the final_status column\n",
    "df_casted = df.withColumn('final_status', df['final_status'].cast(IntegerType()))\n",
    "\n",
    "print('Schema after casting final_status to Integer:')\n",
    "df_casted.printSchema()\n",
    "\n",
    "print('\\nSample of the DataFrame after casting:')\n",
    "df_casted.show()"
   ]
  }
 ],
 "metadata": {
  "kernelspec": {
   "display_name": "venv",
   "language": "python",
   "name": "python3"
  },
  "language_info": {
   "codemirror_mode": {
    "name": "ipython",
    "version": 3
   },
   "file_extension": ".py",
   "mimetype": "text/x-python",
   "name": "python",
   "nbconvert_exporter": "python",
   "pygments_lexer": "ipython3",
   "version": "3.13.4"
  }
 },
 "nbformat": 4,
 "nbformat_minor": 5
}
